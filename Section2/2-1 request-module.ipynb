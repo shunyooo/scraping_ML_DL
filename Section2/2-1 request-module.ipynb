{
 "cells": [
  {
   "cell_type": "code",
   "execution_count": 4,
   "metadata": {
    "collapsed": false
   },
   "outputs": [
    {
     "data": {
      "text/plain": [
       "''"
      ]
     },
     "execution_count": 4,
     "metadata": {},
     "output_type": "execute_result"
    }
   ],
   "source": [
    "import requests\n",
    "\n",
    "# GET\n",
    "r = requests.get(\"http://google.com\")\n",
    "# POST\n",
    "formdata = {\"key1\":\"valiue1\",\"key2\":\"value2\"}\n",
    "r = requests.post(\"http://example.com\",data=formdata)\n",
    "\n",
    "# PUT\n",
    "r = requests.put(\"http://httpbin.org/put\")\n",
    "# DELETE\n",
    "r = requests.delete(\"http://httpbin.org/delete\")\n",
    "# HEAD\n",
    "r = requests.head(\"http://httpbin.org/head\")"
   ]
  },
  {
   "cell_type": "code",
   "execution_count": null,
   "metadata": {
    "collapsed": true
   },
   "outputs": [],
   "source": []
  }
 ],
 "metadata": {
  "kernelspec": {
   "display_name": "Python 3",
   "language": "python",
   "name": "python3"
  },
  "language_info": {
   "codemirror_mode": {
    "name": "ipython",
    "version": 3
   },
   "file_extension": ".py",
   "mimetype": "text/x-python",
   "name": "python",
   "nbconvert_exporter": "python",
   "pygments_lexer": "ipython3",
   "version": "3.6.0"
  }
 },
 "nbformat": 4,
 "nbformat_minor": 2
}
