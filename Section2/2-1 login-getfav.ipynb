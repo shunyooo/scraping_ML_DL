{
 "cells": [
  {
   "cell_type": "code",
   "execution_count": 17,
   "metadata": {
    "collapsed": false
   },
   "outputs": [
    {
     "name": "stdout",
     "output_type": "stream",
     "text": [
      "マイページ= http://uta.pw/sakusibbs/users.php?user_id=241\n",
      "- 迷路 by しゅん > http://uta.pw/sakusibbs/post.php?mml_id=303\n",
      "- 自分が決めた道 by Western･Castle > http://uta.pw/sakusibbs/post.php?mml_id=300\n",
      "- 遅刻しそうなときの歌 by Dj Hino > http://uta.pw/sakusibbs/post.php?mml_id=278\n",
      "- 僕の足 by Homary > http://uta.pw/sakusibbs/post.php?mml_id=302\n"
     ]
    }
   ],
   "source": [
    "import requests\n",
    "from bs4 import BeautifulSoup\n",
    "from urllib.parse import urljoin\n",
    "\n",
    "# メールアドレスとパスワードの指定\n",
    "USER = \"山田太郎\"\n",
    "PASS = \"password\"\n",
    "\n",
    "# セッションを開始\n",
    "session = requests.session()\n",
    "\n",
    "# ログイン\n",
    "login_info = {\n",
    "    \"username_mmlbbs6\":USER,\n",
    "    \"password_mmlbbs6\":PASS,\n",
    "    \"back\":\"index.php\",\n",
    "    \"mml_id\":\"0\"\n",
    "}\n",
    "\n",
    "# action\n",
    "url_login = \"http://uta.pw/sakusibbs/users.php?action=login&m=try\"\n",
    "res = session.post(url_login, data=login_info)\n",
    "res.raise_for_status() # エラーならここで例外を発生させる\n",
    "\n",
    "# マイページのURLをピックアップする\n",
    "soup = BeautifulSoup(res.text,\"html.parser\")\n",
    "a = soup.select_one(\".islogin a\")# isloginクラス要素内のaタグ\n",
    "if a is None:\n",
    "    print(\"マイページが取得できませんでした\")\n",
    "    quit()\n",
    "\n",
    "# 相対URLを絶対URLに変換\n",
    "url_mypage = urljoin(url_login, a.attrs[\"href\"])\n",
    "print(\"マイページ=\", url_mypage)\n",
    "\n",
    "res = session.get(url_mypage)\n",
    "res.raise_for_status()\n",
    "\n",
    "# お気に入りの詩のタイトルを列挙\n",
    "soup = BeautifulSoup(res.text,\"html.parser\")\n",
    "links = soup.select(\"#favlist li > a\")\n",
    "for a in links:\n",
    "    href = urljoin(url_mypage, a.attrs[\"href\"])\n",
    "    title = a.get_text()\n",
    "    print(\"- {} > {}\".format(title,href))"
   ]
  }
 ],
 "metadata": {
  "kernelspec": {
   "display_name": "Python 3",
   "language": "python",
   "name": "python3"
  },
  "language_info": {
   "codemirror_mode": {
    "name": "ipython",
    "version": 3
   },
   "file_extension": ".py",
   "mimetype": "text/x-python",
   "name": "python",
   "nbconvert_exporter": "python",
   "pygments_lexer": "ipython3",
   "version": "3.6.0"
  }
 },
 "nbformat": 4,
 "nbformat_minor": 2
}
